{
 "metadata": {
  "name": ""
 },
 "nbformat": 3,
 "nbformat_minor": 0,
 "worksheets": [
  {
   "cells": [
    {
     "cell_type": "code",
     "collapsed": false,
     "input": [
      "import data; reload(data)\n",
      "datasets, df = data.load_datasets()\n"
     ],
     "language": "python",
     "metadata": {},
     "outputs": [
      {
       "output_type": "stream",
       "stream": "stdout",
       "text": [
        "Extracting features for UVA\n",
        "-- missing 2/1010 feature values for Volume\n",
        "-- missing 1/1010 feature values for Embo\n",
        "Sex                        int64\n",
        "Age                      float64\n",
        "SM_Vein                    int64\n",
        "Max_Diameter             float64\n",
        "Volume                   float64\n",
        "History_of_Hemorrhage      int64\n",
        "Embo                     float64\n",
        "Aneurysm                 float64\n",
        "Max_Dose                 float64\n",
        "Marginal_Dose            float64\n",
        "Isodose                  float64\n",
        "Shots                    float64\n",
        "Surgery                     bool\n",
        "Location_frontal            bool\n",
        "Location_2                  bool\n",
        "Location_3                  bool\n",
        "Location_4                  bool\n",
        "Location_5                  bool\n",
        "Location_6                  bool\n",
        "Location_7                  bool\n",
        "Location_8                  bool\n",
        "Location_9                  bool\n",
        "dtype: object\n",
        "-- Row-wise feature mask len=1010, type=<type 'numpy.ndarray'>, dtype=bool, sum=1007\n",
        "# censored at 4.000000 years: 100 / 1010\n",
        "-- Followup mask len=1010, type=<type 'numpy.ndarray'>, dtype=bool, sum=910\n",
        "-- Total patients=1010, Complete patient rows=1007, Patients with sufficient followup=910, Dataset size=907\n",
        "X (907, 22) float64\n",
        "oblit (907,) bool\n",
        "H 76\n",
        "RIC 365\n",
        "RIC Permanet 26\n",
        "Extracting features for PA\n",
        "-- missing 2/800 feature values for Aneurysm\n",
        "-- missing 7/800 feature values for Shots\n",
        "Sex                        int64\n",
        "Age                      float64\n",
        "SM_Vein                    int64\n",
        "Max_Diameter             float64\n",
        "Volume                   float64\n",
        "History_of_Hemorrhage      int64\n",
        "Embo                     float64\n",
        "Aneurysm                 float64\n",
        "Max_Dose                 float64\n",
        "Marginal_Dose            float64\n",
        "Isodose                  float64\n",
        "Shots                    float64\n",
        "Surgery                     bool\n",
        "Location_frontal            bool\n",
        "Location_2                  bool\n",
        "Location_3                  bool\n",
        "Location_4                  bool\n",
        "Location_5                  bool\n",
        "Location_6                  bool\n",
        "Location_7                  bool\n",
        "Location_8                  bool\n",
        "Location_9                  bool\n",
        "dtype: object\n",
        "-- Row-wise feature mask len=800, type=<type 'numpy.ndarray'>, dtype=bool, sum=793\n",
        "# censored at 4.000000 years: 259 / 800\n",
        "-- Followup mask len=800, type=<type 'numpy.ndarray'>, dtype=bool, sum=541\n",
        "-- Total patients=800, Complete patient rows=793, Patients with sufficient followup=541, Dataset size=535\n",
        "X (535, 22) float64\n",
        "oblit (535,) bool\n",
        "H 64\n",
        "RIC 124\n",
        "RIC Permanet 13\n"
       ]
      }
     ],
     "prompt_number": 103
    },
    {
     "cell_type": "code",
     "collapsed": false,
     "input": [
      "X_pa, Y_pa, _, _, df_pa = datasets['pa'] \n",
      "X_uva, Y_uva, _, _, df_uva = datasets['uva']"
     ],
     "language": "python",
     "metadata": {},
     "outputs": [],
     "prompt_number": 104
    },
    {
     "cell_type": "code",
     "collapsed": false,
     "input": [
      "import sklearn.linear_model\n",
      "rf = sklearn.ensemble.RandomForestClassifier(n_estimators=200)\n",
      "rf.fit(X_uva, Y_uva)\n",
      "Y_prob = rf.predict_proba(X_pa)\n",
      "Y_pred = rf.predict(X_pa)\n",
      "np.mean(Y_pred == Y_pa)"
     ],
     "language": "python",
     "metadata": {},
     "outputs": [
      {
       "metadata": {},
       "output_type": "pyout",
       "prompt_number": 143,
       "text": [
        "0.60373831775700937"
       ]
      }
     ],
     "prompt_number": 143
    },
    {
     "cell_type": "code",
     "collapsed": false,
     "input": [
      "seaborn.plt.hexbin(df_pa.Isodose, df_pa.Marginal_Dose, gridsize=20)"
     ],
     "language": "python",
     "metadata": {},
     "outputs": [
      {
       "metadata": {},
       "output_type": "pyout",
       "prompt_number": 170,
       "text": [
        "<matplotlib.collections.PolyCollection at 0x111f1f090>"
       ]
      },
      {
       "metadata": {},
       "output_type": "display_data",
       "png": "[encoded data removed]",
       "text": [
        "<matplotlib.figure.Figure at 0x11242ea50>"
       ]
      }
     ],
     "prompt_number": 170
    },
    {
     "cell_type": "code",
     "collapsed": false,
     "input": [
      "X_pa, Y_pa, df_pa = datasets['pa']\n",
      "X_uva, Y_uva, df_uva = datasets['uva']"
     ],
     "language": "python",
     "metadata": {},
     "outputs": [],
     "prompt_number": 17
    },
    {
     "cell_type": "code",
     "collapsed": false,
     "input": [
      "df_pa.columns"
     ],
     "language": "python",
     "metadata": {},
     "outputs": [
      {
       "metadata": {},
       "output_type": "pyout",
       "prompt_number": 37,
       "text": [
        "Index([u'Sex', u'Age', u'SM_Vein', u'Diameter', u'Volume', u'History_of_Hemorrhage', u'Embo', u'Aneurysm', u'Max_Dose', u'Marginal_Dose', u'Isodose', u'Shots', u'Surgery', u'Location_frontal', u'Location_2', u'Location_3', u'Location_4', u'Location_5', u'Location_6', u'Location_7', u'Location_8', u'Location_9'], dtype='object')"
       ]
      }
     ],
     "prompt_number": 37
    },
    {
     "cell_type": "code",
     "collapsed": false,
     "input": [],
     "language": "python",
     "metadata": {},
     "outputs": [
      {
       "metadata": {},
       "output_type": "pyout",
       "prompt_number": 55,
       "text": [
        "count    903.000000\n",
        "mean       3.357445\n",
        "std        3.159902\n",
        "min        0.020000\n",
        "25%        1.200000\n",
        "50%        2.700000\n",
        "75%        4.700000\n",
        "max       33.000000\n",
        "Name: Volume, dtype: float64"
       ]
      }
     ],
     "prompt_number": 55
    },
    {
     "cell_type": "code",
     "collapsed": false,
     "input": [
      "candidate_models = {}\n",
      "Cs = [10.0 ** -6, 10.0 ** -5, 0.0001, 0.001, 0.005, 0.01, 0.05, 0.1, 0.5, 1, 5, 10]\n",
      "lr_parameter_grids = [\n",
      "    {\n",
      "         'penalty' : ['l1', 'l2'],\n",
      "         'fit_intercept' : [True, False],\n",
      "         'C' : Cs, \n",
      "    }\n",
      "]\n",
      "lr = sklearn.linear_model.LogisticRegression()\n",
      "candidate_models[lr] = lr_parameter_grids\n"
     ],
     "language": "python",
     "metadata": {},
     "outputs": [],
     "prompt_number": 150
    },
    {
     "cell_type": "code",
     "collapsed": false,
     "input": [
      "X_uva, Y_uva = datasets['uva']\n",
      "X_pa, Y_pa = datasets['pa']\n",
      "\n",
      "X_combined = np.vstack([X_uva, X_pa])\n",
      "Y_combined = np.hstack([Y_uva, Y_pa])\n",
      "\n",
      "assert len(X_combined) == len(Y_combined)\n",
      "n_combined = len(X_combined)\n",
      "mask = np.random.randn(n_combined) > 0\n",
      "\n",
      "X_train = X_combined[mask]\n",
      "X_test = X_combined[~mask]\n",
      "\n",
      "Y_train = Y_combined[mask]\n",
      "Y_test = Y_combined[~mask]\n"
     ],
     "language": "python",
     "metadata": {},
     "outputs": [],
     "prompt_number": 151
    },
    {
     "cell_type": "code",
     "collapsed": false,
     "input": [
      "\n",
      "reload(cv)\n",
      "cv.find_best_model(X, Y, sklearn.linear_model.LogisticRegression, lr_parameter_grids)\n",
      "#cv.find_best_model(X_train, Y_train, sklearn.ensemble.RandomForestClassifier, [\n",
      "#    {'n_estimators' : [10, 20, 40, 80, 160], 'max_depth' : [None, 10, 20, 30]}]) "
     ],
     "language": "python",
     "metadata": {},
     "outputs": [
      {
       "output_type": "stream",
       "stream": "stdout",
       "text": [
        "Param_grid #1/1 {'penalty': ['l1', 'l2'], 'C': [1e-06, 1e-05, 0.0001, 0.001, 0.005, 0.01, 0.05, 0.1, 0.5, 1, 5, 10], 'fit_intercept': [True, False]}\n",
        "-- LogisticRegression(C=1e-06, class_weight=None, dual=False, fit_intercept=True,\n",
        "          intercept_scaling=1, penalty='l1', random_state=None, tol=0.0001)\n",
        "-- AUC: 0.5000\n",
        "\n",
        "-- LogisticRegression(C=1e-06, class_weight=None, dual=False,\n",
        "          fit_intercept=False, intercept_scaling=1, penalty='l1',\n",
        "          random_state=None, tol=0.0001)\n",
        "-- AUC: 0.5000\n",
        "\n",
        "-- LogisticRegression(C=1e-05, class_weight=None, dual=False, fit_intercept=True,\n",
        "          intercept_scaling=1, penalty='l1', random_state=None, tol=0.0001)\n",
        "-- AUC: 0.5000\n",
        "\n",
        "-- LogisticRegression(C=1e-05, class_weight=None, dual=False,\n",
        "          fit_intercept=False, intercept_scaling=1, penalty='l1',\n",
        "          random_state=None, tol=0.0001)\n",
        "-- AUC: 0.5000\n",
        "\n",
        "-- LogisticRegression(C=0.0001, class_weight=None, dual=False,\n",
        "          fit_intercept=True, intercept_scaling=1, penalty='l1',\n",
        "          random_state=None, tol=0.0001)\n",
        "-- AUC: 0.5000\n",
        "\n",
        "-- LogisticRegression(C=0.0001, class_weight=None, dual=False,\n",
        "          fit_intercept=False, intercept_scaling=1, penalty='l1',\n",
        "          random_state=None, tol=0.0001)\n",
        "-- AUC: 0.5000\n",
        "\n",
        "-- LogisticRegression(C=0.001, class_weight=None, dual=False, fit_intercept=True,\n",
        "          intercept_scaling=1, penalty='l1', random_state=None, tol=0.0001)\n",
        "-- AUC: 0.5000"
       ]
      },
      {
       "output_type": "stream",
       "stream": "stdout",
       "text": [
        "\n",
        "\n",
        "-- LogisticRegression(C=0.001, class_weight=None, dual=False,\n",
        "          fit_intercept=False, intercept_scaling=1, penalty='l1',\n",
        "          random_state=None, tol=0.0001)\n",
        "-- AUC: 0.5000\n",
        "\n",
        "-- LogisticRegression(C=0.005, class_weight=None, dual=False, fit_intercept=True,\n",
        "          intercept_scaling=1, penalty='l1', random_state=None, tol=0.0001)\n",
        "-- AUC: 0.5000\n",
        "\n",
        "-- LogisticRegression(C=0.005, class_weight=None, dual=False,\n",
        "          fit_intercept=False, intercept_scaling=1, penalty='l1',\n",
        "          random_state=None, tol=0.0001)\n",
        "-- AUC: 0.5000\n",
        "\n",
        "-- LogisticRegression(C=0.01, class_weight=None, dual=False, fit_intercept=True,\n",
        "          intercept_scaling=1, penalty='l1', random_state=None, tol=0.0001)\n",
        "-- AUC: 0.6799\n",
        "\n",
        "-- LogisticRegression(C=0.01, class_weight=None, dual=False, fit_intercept=False,\n",
        "          intercept_scaling=1, penalty='l1', random_state=None, tol=0.0001)\n",
        "-- AUC: 0.6799\n",
        "\n",
        "-- LogisticRegression(C=0.05, class_weight=None, dual=False, fit_intercept=True,\n",
        "          intercept_scaling=1, penalty='l1', random_state=None, tol=0.0001)\n",
        "-- AUC: 0.7183"
       ]
      },
      {
       "output_type": "stream",
       "stream": "stdout",
       "text": [
        "\n",
        "\n",
        "-- LogisticRegression(C=0.05, class_weight=None, dual=False, fit_intercept=False,\n",
        "          intercept_scaling=1, penalty='l1', random_state=None, tol=0.0001)\n",
        "-- AUC: 0.7187\n",
        "\n",
        "-- LogisticRegression(C=0.1, class_weight=None, dual=False, fit_intercept=True,\n",
        "          intercept_scaling=1, penalty='l1', random_state=None, tol=0.0001)\n",
        "-- AUC: 0.7156\n",
        "\n",
        "-- LogisticRegression(C=0.1, class_weight=None, dual=False, fit_intercept=False,\n",
        "          intercept_scaling=1, penalty='l1', random_state=None, tol=0.0001)\n",
        "-- AUC: 0.7165\n",
        "\n",
        "-- LogisticRegression(C=0.5, class_weight=None, dual=False, fit_intercept=True,\n",
        "          intercept_scaling=1, penalty='l1', random_state=None, tol=0.0001)\n",
        "-- AUC: 0.7007"
       ]
      },
      {
       "output_type": "stream",
       "stream": "stdout",
       "text": [
        "\n",
        "\n",
        "-- LogisticRegression(C=0.5, class_weight=None, dual=False, fit_intercept=False,\n",
        "          intercept_scaling=1, penalty='l1', random_state=None, tol=0.0001)\n",
        "-- AUC: 0.7007\n",
        "\n",
        "-- LogisticRegression(C=1, class_weight=None, dual=False, fit_intercept=True,\n",
        "          intercept_scaling=1, penalty='l1', random_state=None, tol=0.0001)\n",
        "-- AUC: 0.6969"
       ]
      },
      {
       "output_type": "stream",
       "stream": "stdout",
       "text": [
        "\n",
        "\n",
        "-- LogisticRegression(C=1, class_weight=None, dual=False, fit_intercept=False,\n",
        "          intercept_scaling=1, penalty='l1', random_state=None, tol=0.0001)\n",
        "-- AUC: 0.6981\n",
        "\n",
        "-- LogisticRegression(C=5, class_weight=None, dual=False, fit_intercept=True,\n",
        "          intercept_scaling=1, penalty='l1', random_state=None, tol=0.0001)\n",
        "-- AUC: 0.6943"
       ]
      },
      {
       "output_type": "stream",
       "stream": "stdout",
       "text": [
        "\n",
        "\n",
        "-- LogisticRegression(C=5, class_weight=None, dual=False, fit_intercept=False,\n",
        "          intercept_scaling=1, penalty='l1', random_state=None, tol=0.0001)\n",
        "-- AUC: 0.6954"
       ]
      },
      {
       "output_type": "stream",
       "stream": "stdout",
       "text": [
        "\n",
        "\n",
        "-- LogisticRegression(C=10, class_weight=None, dual=False, fit_intercept=True,\n",
        "          intercept_scaling=1, penalty='l1', random_state=None, tol=0.0001)\n",
        "-- AUC: 0.6936"
       ]
      },
      {
       "output_type": "stream",
       "stream": "stdout",
       "text": [
        "\n",
        "\n",
        "-- LogisticRegression(C=10, class_weight=None, dual=False, fit_intercept=False,\n",
        "          intercept_scaling=1, penalty='l1', random_state=None, tol=0.0001)\n",
        "-- AUC: 0.6946"
       ]
      },
      {
       "output_type": "stream",
       "stream": "stdout",
       "text": [
        "\n",
        "\n",
        "-- LogisticRegression(C=1e-06, class_weight=None, dual=False, fit_intercept=True,\n",
        "          intercept_scaling=1, penalty='l2', random_state=None, tol=0.0001)\n",
        "-- AUC: 0.7174\n",
        "\n",
        "-- LogisticRegression(C=1e-06, class_weight=None, dual=False,\n",
        "          fit_intercept=False, intercept_scaling=1, penalty='l2',\n",
        "          random_state=None, tol=0.0001)\n",
        "-- AUC: 0.7174\n",
        "\n",
        "-- LogisticRegression(C=1e-05, class_weight=None, dual=False, fit_intercept=True,\n",
        "          intercept_scaling=1, penalty='l2', random_state=None, tol=0.0001)\n",
        "-- AUC: 0.7173\n",
        "\n",
        "-- LogisticRegression(C=1e-05, class_weight=None, dual=False,\n",
        "          fit_intercept=False, intercept_scaling=1, penalty='l2',\n",
        "          random_state=None, tol=0.0001)\n",
        "-- AUC: 0.7173\n",
        "\n",
        "-- LogisticRegression(C=0.0001, class_weight=None, dual=False,\n",
        "          fit_intercept=True, intercept_scaling=1, penalty='l2',\n",
        "          random_state=None, tol=0.0001)\n",
        "-- AUC: 0.7172\n",
        "\n",
        "-- LogisticRegression(C=0.0001, class_weight=None, dual=False,\n",
        "          fit_intercept=False, intercept_scaling=1, penalty='l2',\n",
        "          random_state=None, tol=0.0001)\n",
        "-- AUC: 0.7172"
       ]
      },
      {
       "output_type": "stream",
       "stream": "stdout",
       "text": [
        "\n",
        "\n",
        "-- LogisticRegression(C=0.001, class_weight=None, dual=False, fit_intercept=True,\n",
        "          intercept_scaling=1, penalty='l2', random_state=None, tol=0.0001)\n",
        "-- AUC: 0.7157\n",
        "\n",
        "-- LogisticRegression(C=0.001, class_weight=None, dual=False,\n",
        "          fit_intercept=False, intercept_scaling=1, penalty='l2',\n",
        "          random_state=None, tol=0.0001)\n",
        "-- AUC: 0.7157\n",
        "\n",
        "-- LogisticRegression(C=0.005, class_weight=None, dual=False, fit_intercept=True,\n",
        "          intercept_scaling=1, penalty='l2', random_state=None, tol=0.0001)\n",
        "-- AUC: 0.7104\n",
        "\n",
        "-- LogisticRegression(C=0.005, class_weight=None, dual=False,\n",
        "          fit_intercept=False, intercept_scaling=1, penalty='l2',\n",
        "          random_state=None, tol=0.0001)\n",
        "-- AUC: 0.7105\n",
        "\n",
        "-- LogisticRegression(C=0.01, class_weight=None, dual=False, fit_intercept=True,\n",
        "          intercept_scaling=1, penalty='l2', random_state=None, tol=0.0001)\n",
        "-- AUC: 0.7071"
       ]
      },
      {
       "output_type": "stream",
       "stream": "stdout",
       "text": [
        "\n",
        "\n",
        "-- LogisticRegression(C=0.01, class_weight=None, dual=False, fit_intercept=False,\n",
        "          intercept_scaling=1, penalty='l2', random_state=None, tol=0.0001)\n",
        "-- AUC: 0.7074\n",
        "\n",
        "-- LogisticRegression(C=0.05, class_weight=None, dual=False, fit_intercept=True,\n",
        "          intercept_scaling=1, penalty='l2', random_state=None, tol=0.0001)\n",
        "-- AUC: 0.7004\n",
        "\n",
        "-- LogisticRegression(C=0.05, class_weight=None, dual=False, fit_intercept=False,\n",
        "          intercept_scaling=1, penalty='l2', random_state=None, tol=0.0001)\n",
        "-- AUC: 0.7010\n",
        "\n",
        "-- LogisticRegression(C=0.1, class_weight=None, dual=False, fit_intercept=True,\n",
        "          intercept_scaling=1, penalty='l2', random_state=None, tol=0.0001)\n",
        "-- AUC: 0.6985"
       ]
      },
      {
       "output_type": "stream",
       "stream": "stdout",
       "text": [
        "\n",
        "\n",
        "-- LogisticRegression(C=0.1, class_weight=None, dual=False, fit_intercept=False,\n",
        "          intercept_scaling=1, penalty='l2', random_state=None, tol=0.0001)\n",
        "-- AUC: 0.6993\n",
        "\n",
        "-- LogisticRegression(C=0.5, class_weight=None, dual=False, fit_intercept=True,\n",
        "          intercept_scaling=1, penalty='l2', random_state=None, tol=0.0001)\n",
        "-- AUC: 0.6960\n",
        "\n",
        "-- LogisticRegression(C=0.5, class_weight=None, dual=False, fit_intercept=False,\n",
        "          intercept_scaling=1, penalty='l2', random_state=None, tol=0.0001)\n",
        "-- AUC: 0.6967"
       ]
      },
      {
       "output_type": "stream",
       "stream": "stdout",
       "text": [
        "\n",
        "\n",
        "-- LogisticRegression(C=1, class_weight=None, dual=False, fit_intercept=True,\n",
        "          intercept_scaling=1, penalty='l2', random_state=None, tol=0.0001)\n",
        "-- AUC: 0.6956\n",
        "\n",
        "-- LogisticRegression(C=1, class_weight=None, dual=False, fit_intercept=False,\n",
        "          intercept_scaling=1, penalty='l2', random_state=None, tol=0.0001)\n",
        "-- AUC: 0.6965\n",
        "\n",
        "-- LogisticRegression(C=5, class_weight=None, dual=False, fit_intercept=True,\n",
        "          intercept_scaling=1, penalty='l2', random_state=None, tol=0.0001)\n",
        "-- AUC: 0.6935"
       ]
      },
      {
       "output_type": "stream",
       "stream": "stdout",
       "text": [
        "\n",
        "\n",
        "-- LogisticRegression(C=5, class_weight=None, dual=False, fit_intercept=False,\n",
        "          intercept_scaling=1, penalty='l2', random_state=None, tol=0.0001)\n",
        "-- AUC: 0.6946\n",
        "\n",
        "-- LogisticRegression(C=10, class_weight=None, dual=False, fit_intercept=True,\n",
        "          intercept_scaling=1, penalty='l2', random_state=None, tol=0.0001)\n",
        "-- AUC: 0.6933\n",
        "\n",
        "-- LogisticRegression(C=10, class_weight=None, dual=False, fit_intercept=False,\n",
        "          intercept_scaling=1, penalty='l2', random_state=None, tol=0.0001)\n",
        "-- AUC: 0.6942"
       ]
      },
      {
       "output_type": "stream",
       "stream": "stdout",
       "text": [
        "\n",
        "\n",
        "== Best Model: LogisticRegression(C=0.05, class_weight=None, dual=False, fit_intercept=False,\n",
        "          intercept_scaling=1, penalty='l1', random_state=None, tol=0.0001), AUC = 0.7187\n",
        "\n"
       ]
      },
      {
       "metadata": {},
       "output_type": "pyout",
       "prompt_number": 152,
       "text": [
        "(<helpers.Normalizer at 0x110394b50>,\n",
        " {'C': 0.05, 'fit_intercept': False, 'penalty': 'l1'},\n",
        " 0.71874223752490141)"
       ]
      }
     ],
     "prompt_number": 152
    },
    {
     "cell_type": "code",
     "collapsed": false,
     "input": [
      "best_model, params, auc = _"
     ],
     "language": "python",
     "metadata": {},
     "outputs": [],
     "prompt_number": 153
    },
    {
     "cell_type": "code",
     "collapsed": false,
     "input": [
      "best_model.fit(X_train, Y_train)"
     ],
     "language": "python",
     "metadata": {},
     "outputs": [],
     "prompt_number": 154
    },
    {
     "cell_type": "code",
     "collapsed": false,
     "input": [
      "Y_pred = best_model.predict_proba(X_test)"
     ],
     "language": "python",
     "metadata": {},
     "outputs": [],
     "prompt_number": 155
    },
    {
     "cell_type": "code",
     "collapsed": false,
     "input": [
      "cv.roc_auc_score(Y_test, Y_pred[:, -1])"
     ],
     "language": "python",
     "metadata": {},
     "outputs": [
      {
       "metadata": {},
       "output_type": "pyout",
       "prompt_number": 156,
       "text": [
        "0.70736402020034772"
       ]
      }
     ],
     "prompt_number": 156
    },
    {
     "cell_type": "code",
     "collapsed": false,
     "input": [
      "params"
     ],
     "language": "python",
     "metadata": {},
     "outputs": [
      {
       "metadata": {},
       "output_type": "pyout",
       "prompt_number": 157,
       "text": [
        "{'C': 0.05, 'fit_intercept': False, 'penalty': 'l1'}"
       ]
      }
     ],
     "prompt_number": 157
    },
    {
     "cell_type": "code",
     "collapsed": false,
     "input": [
      "best_model.model.coef_"
     ],
     "language": "python",
     "metadata": {},
     "outputs": [
      {
       "metadata": {},
       "output_type": "pyout",
       "prompt_number": 158,
       "text": [
        "array([[ 0.        ,  0.        ,  0.        , -0.29063386, -0.02592646,\n",
        "         0.        , -0.27811912,  0.        ,  0.0103498 ,  0.25269274,\n",
        "         0.        ,  0.        ,  0.        ,  0.        , -0.07458049,\n",
        "         0.        ,  0.        ,  0.        ,  0.        ,  0.        ,\n",
        "        -0.07894428,  0.        ]])"
       ]
      }
     ],
     "prompt_number": 158
    },
    {
     "cell_type": "code",
     "collapsed": false,
     "input": [
      "[datasets['features'][i] for (i, x) in enumerate(best_model.model.coef_.ravel()) if abs(x) > 0]"
     ],
     "language": "python",
     "metadata": {},
     "outputs": [
      {
       "metadata": {},
       "output_type": "pyout",
       "prompt_number": 159,
       "text": [
        "['Diameter',\n",
        " 'Volume',\n",
        " u'Embo',\n",
        " 'Max_Dose',\n",
        " 'Marginal_Dose',\n",
        " 'Location_2',\n",
        " 'Location_8']"
       ]
      }
     ],
     "prompt_number": 159
    },
    {
     "cell_type": "code",
     "collapsed": false,
     "input": [],
     "language": "python",
     "metadata": {},
     "outputs": [],
     "prompt_number": 159
    },
    {
     "cell_type": "code",
     "collapsed": false,
     "input": [],
     "language": "python",
     "metadata": {},
     "outputs": []
    }
   ],
   "metadata": {}
  }
 ]
}
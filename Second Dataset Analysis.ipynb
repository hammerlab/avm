{
 "metadata": {
  "name": ""
 },
 "nbformat": 3,
 "nbformat_minor": 0,
 "worksheets": [
  {
   "cells": [
    {
     "cell_type": "code",
     "collapsed": false,
     "input": [
      "reload(data)\n",
      "datasets = data.load_data()\n"
     ],
     "language": "python",
     "metadata": {},
     "outputs": [
      {
       "output_type": "stream",
       "stream": "stdout",
       "text": [
        "Extracting features for UVA\n",
        "-- missing 2/1010 feature values for Volume\n",
        "-- missing 1/1010 feature values for Embo\n",
        "Sex                        int64\n",
        "Age                      float64\n",
        "SM_Vein                    int64\n",
        "Max D                    float64\n",
        "Volume                   float64\n",
        "History_of_Hemorrhage      int64\n",
        "Embo                     float64\n",
        "Aneurysm                 float64\n",
        "Max_Dose                 float64\n",
        "Marginal_Dose            float64\n",
        "Isodose                  float64\n",
        "Shots                    float64\n",
        "Surgery                     bool\n",
        "Location_frontal            bool\n",
        "Location_2                  bool\n",
        "Location_3                  bool\n",
        "Location_4                  bool\n",
        "Location_5                  bool\n",
        "Location_6                  bool\n",
        "Location_7                  bool\n",
        "Location_8                  bool\n",
        "Location_9                  bool\n",
        "dtype: object\n",
        "-- Row-wise feature mask len=1010, type=<type 'numpy.ndarray'>, dtype=bool, sum=1007\n",
        "# censored at 4.000000 years: 100 / 1010\n",
        "-- Followup mask len=1010, type=<type 'numpy.ndarray'>, dtype=bool, sum=910\n",
        "-- Total patients=1010, Complete patient rows=1007, Patients with sufficient followup=910, Dataset size=907\n",
        "X (907, 22) float64\n",
        "Y (907,) bool\n",
        "Extracting features for PA\n",
        "-- missing 2/800 feature values for Aneurysm\n",
        "-- missing 7/800 feature values for Shots\n",
        "Sex                        int64\n",
        "Age                      float64\n",
        "SM_Vein                    int64\n",
        "Max D                    float64\n",
        "Volume                   float64\n",
        "History_of_Hemorrhage      int64\n",
        "Embo                     float64\n",
        "Aneurysm                 float64\n",
        "Max_Dose                 float64\n",
        "Marginal_Dose            float64\n",
        "Isodose                  float64\n",
        "Shots                    float64\n",
        "Surgery                     bool\n",
        "Location_frontal            bool\n",
        "Location_2                  bool\n",
        "Location_3                  bool\n",
        "Location_4                  bool\n",
        "Location_5                  bool\n",
        "Location_6                  bool\n",
        "Location_7                  bool\n",
        "Location_8                  bool\n",
        "Location_9                  bool\n",
        "dtype: object\n",
        "-- Row-wise feature mask len=800, type=<type 'numpy.ndarray'>, dtype=bool, sum=793\n",
        "# censored at 4.000000 years: 259 / 800\n",
        "-- Followup mask len=800, type=<type 'numpy.ndarray'>, dtype=bool, sum=541\n",
        "-- Total patients=800, Complete patient rows=793, Patients with sufficient followup=541, Dataset size=535\n",
        "X (535, 22) float64\n",
        "Y (535,) bool\n"
       ]
      }
     ],
     "prompt_number": 53
    },
    {
     "cell_type": "code",
     "collapsed": false,
     "input": [
      "candidate_models = {}\n",
      "Cs = [10.0 ** -6, 10.0 ** -5, 0.0001, 0.001, 0.005, 0.01, 0.05, 0.1, 0.5, 1, 5, 10]\n",
      "lr_parameter_grids = [\n",
      "    {\n",
      "         'penalty' : ['l1', 'l2'],\n",
      "         'fit_intercept' : [True, False],\n",
      "         'C' : Cs, \n",
      "    }\n",
      "]\n",
      "lr = sklearn.linear_model.LogisticRegression()\n",
      "candidate_models[lr] = lr_parameter_grids\n"
     ],
     "language": "python",
     "metadata": {},
     "outputs": [],
     "prompt_number": 54
    },
    {
     "cell_type": "code",
     "collapsed": false,
     "input": [
      "sklearn.ensemble.RandomForestClassifier??"
     ],
     "language": "python",
     "metadata": {},
     "outputs": [],
     "prompt_number": 75
    },
    {
     "cell_type": "code",
     "collapsed": false,
     "input": [
      "X, Y = datasets['uva']\n",
      "X_test, Y_test = datasets['pa']\n",
      "reload(cv)\n",
      "#cv.find_best_model(X, Y, sklearn.linear_model.LogisticRegression, lr_parameter_grids)\n",
      "cv.find_best_model(X, Y, sklearn.ensemble.RandomForestClassifier, [{'n_estimators' : [10, 20, 40, 80, 160], 'max_depth' : [None, 10, 20, 30]}]) "
     ],
     "language": "python",
     "metadata": {},
     "outputs": [
      {
       "output_type": "stream",
       "stream": "stdout",
       "text": [
        "Param_grid #1/1 {'n_estimators': [10, 20, 40, 80, 160], 'max_depth': [None, 10, 20, 30]}\n",
        "-- RandomForestClassifier(bootstrap=True, compute_importances=None,\n",
        "            criterion='gini', max_depth=None, max_features='auto',\n",
        "            max_leaf_nodes=None, min_density=None, min_samples_leaf=1,\n",
        "            min_samples_split=2, n_estimators=10, n_jobs=1,\n",
        "            oob_score=False, random_state=None, verbose=0)\n",
        "-- AUC: 0.6658"
       ]
      },
      {
       "output_type": "stream",
       "stream": "stdout",
       "text": [
        "\n",
        "\n",
        "-- RandomForestClassifier(bootstrap=True, compute_importances=None,\n",
        "            criterion='gini', max_depth=10, max_features='auto',\n",
        "            max_leaf_nodes=None, min_density=None, min_samples_leaf=1,\n",
        "            min_samples_split=2, n_estimators=10, n_jobs=1,\n",
        "            oob_score=False, random_state=None, verbose=0)\n",
        "-- AUC: 0.6750"
       ]
      },
      {
       "output_type": "stream",
       "stream": "stdout",
       "text": [
        "\n",
        "\n",
        "-- RandomForestClassifier(bootstrap=True, compute_importances=None,\n",
        "            criterion='gini', max_depth=20, max_features='auto',\n",
        "            max_leaf_nodes=None, min_density=None, min_samples_leaf=1,\n",
        "            min_samples_split=2, n_estimators=10, n_jobs=1,\n",
        "            oob_score=False, random_state=None, verbose=0)\n",
        "-- AUC: 0.6691"
       ]
      },
      {
       "output_type": "stream",
       "stream": "stdout",
       "text": [
        "\n",
        "\n",
        "-- RandomForestClassifier(bootstrap=True, compute_importances=None,\n",
        "            criterion='gini', max_depth=30, max_features='auto',\n",
        "            max_leaf_nodes=None, min_density=None, min_samples_leaf=1,\n",
        "            min_samples_split=2, n_estimators=10, n_jobs=1,\n",
        "            oob_score=False, random_state=None, verbose=0)\n",
        "-- AUC: 0.6535"
       ]
      },
      {
       "output_type": "stream",
       "stream": "stdout",
       "text": [
        "\n",
        "\n",
        "-- RandomForestClassifier(bootstrap=True, compute_importances=None,\n",
        "            criterion='gini', max_depth=None, max_features='auto',\n",
        "            max_leaf_nodes=None, min_density=None, min_samples_leaf=1,\n",
        "            min_samples_split=2, n_estimators=20, n_jobs=1,\n",
        "            oob_score=False, random_state=None, verbose=0)\n",
        "-- AUC: 0.6840"
       ]
      },
      {
       "output_type": "stream",
       "stream": "stdout",
       "text": [
        "\n",
        "\n",
        "-- RandomForestClassifier(bootstrap=True, compute_importances=None,\n",
        "            criterion='gini', max_depth=10, max_features='auto',\n",
        "            max_leaf_nodes=None, min_density=None, min_samples_leaf=1,\n",
        "            min_samples_split=2, n_estimators=20, n_jobs=1,\n",
        "            oob_score=False, random_state=None, verbose=0)\n",
        "-- AUC: 0.6911"
       ]
      },
      {
       "output_type": "stream",
       "stream": "stdout",
       "text": [
        "\n",
        "\n",
        "-- RandomForestClassifier(bootstrap=True, compute_importances=None,\n",
        "            criterion='gini', max_depth=20, max_features='auto',\n",
        "            max_leaf_nodes=None, min_density=None, min_samples_leaf=1,\n",
        "            min_samples_split=2, n_estimators=20, n_jobs=1,\n",
        "            oob_score=False, random_state=None, verbose=0)\n",
        "-- AUC: 0.6952"
       ]
      },
      {
       "output_type": "stream",
       "stream": "stdout",
       "text": [
        "\n",
        "\n",
        "-- RandomForestClassifier(bootstrap=True, compute_importances=None,\n",
        "            criterion='gini', max_depth=30, max_features='auto',\n",
        "            max_leaf_nodes=None, min_density=None, min_samples_leaf=1,\n",
        "            min_samples_split=2, n_estimators=20, n_jobs=1,\n",
        "            oob_score=False, random_state=None, verbose=0)\n",
        "-- AUC: 0.6869"
       ]
      },
      {
       "output_type": "stream",
       "stream": "stdout",
       "text": [
        "\n",
        "\n",
        "-- RandomForestClassifier(bootstrap=True, compute_importances=None,\n",
        "            criterion='gini', max_depth=None, max_features='auto',\n",
        "            max_leaf_nodes=None, min_density=None, min_samples_leaf=1,\n",
        "            min_samples_split=2, n_estimators=40, n_jobs=1,\n",
        "            oob_score=False, random_state=None, verbose=0)\n",
        "-- AUC: 0.6844"
       ]
      },
      {
       "output_type": "stream",
       "stream": "stdout",
       "text": [
        "\n",
        "\n",
        "-- RandomForestClassifier(bootstrap=True, compute_importances=None,\n",
        "            criterion='gini', max_depth=10, max_features='auto',\n",
        "            max_leaf_nodes=None, min_density=None, min_samples_leaf=1,\n",
        "            min_samples_split=2, n_estimators=40, n_jobs=1,\n",
        "            oob_score=False, random_state=None, verbose=0)\n",
        "-- AUC: 0.7066"
       ]
      },
      {
       "output_type": "stream",
       "stream": "stdout",
       "text": [
        "\n",
        "\n",
        "-- RandomForestClassifier(bootstrap=True, compute_importances=None,\n",
        "            criterion='gini', max_depth=20, max_features='auto',\n",
        "            max_leaf_nodes=None, min_density=None, min_samples_leaf=1,\n",
        "            min_samples_split=2, n_estimators=40, n_jobs=1,\n",
        "            oob_score=False, random_state=None, verbose=0)\n",
        "-- AUC: 0.6871"
       ]
      },
      {
       "output_type": "stream",
       "stream": "stdout",
       "text": [
        "\n",
        "\n",
        "-- RandomForestClassifier(bootstrap=True, compute_importances=None,\n",
        "            criterion='gini', max_depth=30, max_features='auto',\n",
        "            max_leaf_nodes=None, min_density=None, min_samples_leaf=1,\n",
        "            min_samples_split=2, n_estimators=40, n_jobs=1,\n",
        "            oob_score=False, random_state=None, verbose=0)\n",
        "-- AUC: 0.6799"
       ]
      },
      {
       "output_type": "stream",
       "stream": "stdout",
       "text": [
        "\n",
        "\n",
        "-- RandomForestClassifier(bootstrap=True, compute_importances=None,\n",
        "            criterion='gini', max_depth=None, max_features='auto',\n",
        "            max_leaf_nodes=None, min_density=None, min_samples_leaf=1,\n",
        "            min_samples_split=2, n_estimators=80, n_jobs=1,\n",
        "            oob_score=False, random_state=None, verbose=0)\n",
        "-- AUC: 0.6962"
       ]
      },
      {
       "output_type": "stream",
       "stream": "stdout",
       "text": [
        "\n",
        "\n",
        "-- RandomForestClassifier(bootstrap=True, compute_importances=None,\n",
        "            criterion='gini', max_depth=10, max_features='auto',\n",
        "            max_leaf_nodes=None, min_density=None, min_samples_leaf=1,\n",
        "            min_samples_split=2, n_estimators=80, n_jobs=1,\n",
        "            oob_score=False, random_state=None, verbose=0)\n",
        "-- AUC: 0.6986"
       ]
      },
      {
       "output_type": "stream",
       "stream": "stdout",
       "text": [
        "\n",
        "\n",
        "-- RandomForestClassifier(bootstrap=True, compute_importances=None,\n",
        "            criterion='gini', max_depth=20, max_features='auto',\n",
        "            max_leaf_nodes=None, min_density=None, min_samples_leaf=1,\n",
        "            min_samples_split=2, n_estimators=80, n_jobs=1,\n",
        "            oob_score=False, random_state=None, verbose=0)\n",
        "-- AUC: 0.6997"
       ]
      },
      {
       "output_type": "stream",
       "stream": "stdout",
       "text": [
        "\n",
        "\n",
        "-- RandomForestClassifier(bootstrap=True, compute_importances=None,\n",
        "            criterion='gini', max_depth=30, max_features='auto',\n",
        "            max_leaf_nodes=None, min_density=None, min_samples_leaf=1,\n",
        "            min_samples_split=2, n_estimators=80, n_jobs=1,\n",
        "            oob_score=False, random_state=None, verbose=0)\n",
        "-- AUC: 0.7053"
       ]
      },
      {
       "output_type": "stream",
       "stream": "stdout",
       "text": [
        "\n",
        "\n",
        "-- RandomForestClassifier(bootstrap=True, compute_importances=None,\n",
        "            criterion='gini', max_depth=None, max_features='auto',\n",
        "            max_leaf_nodes=None, min_density=None, min_samples_leaf=1,\n",
        "            min_samples_split=2, n_estimators=160, n_jobs=1,\n",
        "            oob_score=False, random_state=None, verbose=0)\n",
        "-- AUC: 0.7035"
       ]
      },
      {
       "output_type": "stream",
       "stream": "stdout",
       "text": [
        "\n",
        "\n",
        "-- RandomForestClassifier(bootstrap=True, compute_importances=None,\n",
        "            criterion='gini', max_depth=10, max_features='auto',\n",
        "            max_leaf_nodes=None, min_density=None, min_samples_leaf=1,\n",
        "            min_samples_split=2, n_estimators=160, n_jobs=1,\n",
        "            oob_score=False, random_state=None, verbose=0)\n",
        "-- AUC: 0.7043"
       ]
      },
      {
       "output_type": "stream",
       "stream": "stdout",
       "text": [
        "\n",
        "\n",
        "-- RandomForestClassifier(bootstrap=True, compute_importances=None,\n",
        "            criterion='gini', max_depth=20, max_features='auto',\n",
        "            max_leaf_nodes=None, min_density=None, min_samples_leaf=1,\n",
        "            min_samples_split=2, n_estimators=160, n_jobs=1,\n",
        "            oob_score=False, random_state=None, verbose=0)\n",
        "-- AUC: 0.7036"
       ]
      },
      {
       "output_type": "stream",
       "stream": "stdout",
       "text": [
        "\n",
        "\n",
        "-- RandomForestClassifier(bootstrap=True, compute_importances=None,\n",
        "            criterion='gini', max_depth=30, max_features='auto',\n",
        "            max_leaf_nodes=None, min_density=None, min_samples_leaf=1,\n",
        "            min_samples_split=2, n_estimators=160, n_jobs=1,\n",
        "            oob_score=False, random_state=None, verbose=0)\n",
        "-- AUC: 0.7009"
       ]
      },
      {
       "output_type": "stream",
       "stream": "stdout",
       "text": [
        "\n",
        "\n",
        "== Best Model: RandomForestClassifier(bootstrap=True, compute_importances=None,\n",
        "            criterion='gini', max_depth=10, max_features='auto',\n",
        "            max_leaf_nodes=None, min_density=None, min_samples_leaf=1,\n",
        "            min_samples_split=2, n_estimators=40, n_jobs=1,\n",
        "            oob_score=False, random_state=None, verbose=0), AUC = 0.7066\n",
        "\n"
       ]
      },
      {
       "metadata": {},
       "output_type": "pyout",
       "prompt_number": 76,
       "text": [
        "(<helpers.Normalizer at 0x110365290>,\n",
        " {'max_depth': 10, 'n_estimators': 40},\n",
        " 0.70664483003467393)"
       ]
      }
     ],
     "prompt_number": 76
    },
    {
     "cell_type": "code",
     "collapsed": false,
     "input": [
      "best_model, params, auc = _"
     ],
     "language": "python",
     "metadata": {},
     "outputs": [],
     "prompt_number": 77
    },
    {
     "cell_type": "code",
     "collapsed": false,
     "input": [
      "best_model.fit(X, Y)"
     ],
     "language": "python",
     "metadata": {},
     "outputs": [],
     "prompt_number": 78
    },
    {
     "cell_type": "code",
     "collapsed": false,
     "input": [
      "Y_pred = best_model.predict_proba(X_test)"
     ],
     "language": "python",
     "metadata": {},
     "outputs": [],
     "prompt_number": 80
    },
    {
     "cell_type": "code",
     "collapsed": false,
     "input": [
      "Y_pred[:, -1]"
     ],
     "language": "python",
     "metadata": {},
     "outputs": [
      {
       "metadata": {},
       "output_type": "pyout",
       "prompt_number": 81,
       "text": [
        "array([ 0.88810539,  0.50350984,  0.69411012,  0.55281836,  0.5072043 ,\n",
        "        0.50933776,  0.19458231,  0.41426729,  0.40130237,  0.28706638,\n",
        "        0.18243231,  0.7378506 ,  0.1568204 ,  0.66516394,  0.28449541,\n",
        "        0.88181677,  0.68396557,  0.8303145 ,  0.62542623,  0.51309692,\n",
        "        0.40611505,  0.95263056,  0.35003133,  0.76275767,  0.39877747,\n",
        "        0.06671573,  0.54194669,  0.26187088,  0.58575471,  0.05756746,\n",
        "        0.73807465,  0.76998422,  0.7941929 ,  0.81487539,  0.17073398,\n",
        "        0.78688071,  0.125     ,  0.59907147,  0.47249305,  0.36607143,\n",
        "        0.73364038,  0.35508047,  0.94308098,  0.61845681,  0.90706858,\n",
        "        0.33518099,  0.30636691,  0.64752663,  0.75416578,  0.20803211,\n",
        "        0.41877955,  0.58483899,  0.88269611,  0.29745162,  0.51615945,\n",
        "        0.28494493,  0.24948705,  0.93610934,  0.27568027,  0.5649419 ,\n",
        "        0.71323943,  0.86969618,  0.48944883,  0.58339642,  0.18640525,\n",
        "        0.25871042,  0.18746894,  0.35677819,  0.502565  ,  0.54709152,\n",
        "        0.30529518,  0.71280276,  0.64335468,  0.63162454,  0.54984973,\n",
        "        0.45479871,  0.8045498 ,  0.27878022,  0.51594775,  0.28366951,\n",
        "        0.49727714,  0.64631675,  0.61142247,  0.7050944 ,  0.95100618,\n",
        "        0.85118279,  0.61223208,  0.59957514,  0.33597566,  0.29929463,\n",
        "        0.38161376,  0.75870177,  0.28245394,  0.29696275,  0.47513342,\n",
        "        0.24156476,  0.8524659 ,  0.83746049,  0.85536709,  0.29673331,\n",
        "        0.35182769,  0.7295091 ,  0.37894281,  0.15209482,  0.62142874,\n",
        "        0.22524423,  0.39193307,  0.2510166 ,  0.19133667,  0.17937991,\n",
        "        0.43050595,  0.58908116,  0.57055288,  0.493951  ,  0.80005553,\n",
        "        0.29368716,  0.3427932 ,  0.28779957,  0.2621983 ,  0.65484932,\n",
        "        0.83387795,  0.36221011,  0.69076865,  0.57799329,  0.4615526 ,\n",
        "        0.47678149,  0.92545622,  0.74321654,  0.71788065,  0.35645348,\n",
        "        0.33446734,  0.67526756,  0.84956966,  0.53764696,  0.50861079,\n",
        "        0.27403564,  0.4570357 ,  0.34554861,  0.63885295,  0.96571185,\n",
        "        0.18166774,  0.37237837,  0.28494982,  0.59565575,  0.49425301,\n",
        "        0.56554687,  0.59028007,  0.23343178,  0.22261851,  0.84803739,\n",
        "        0.86860902,  0.16558333,  0.65598811,  0.36671337,  0.32832288,\n",
        "        0.69261134,  0.71173221,  0.70251842,  0.46187799,  0.27022607,\n",
        "        0.08854529,  0.63300447,  0.89982681,  0.41807713,  0.68229885,\n",
        "        0.63238539,  0.76954877,  0.48897565,  0.82969733,  0.68066349,\n",
        "        0.66945954,  0.74939346,  0.77420039,  0.63104773,  0.56900607,\n",
        "        0.82098711,  0.88441385,  0.73207043,  0.74913105,  0.6364243 ,\n",
        "        0.56639288,  0.79950658,  0.25998432,  0.73525066,  0.36976691,\n",
        "        0.81858498,  0.70174908,  0.86388475,  0.67690555,  0.80556503,\n",
        "        0.91992376,  0.64288522,  0.49912418,  0.39269268,  0.78845427,\n",
        "        0.53835528,  0.47788015,  0.5496093 ,  0.36192407,  0.89757689,\n",
        "        0.80755692,  0.32950632,  0.38084847,  0.94692959,  0.55879099,\n",
        "        0.45532053,  0.29888566,  0.54370745,  0.95235396,  0.70557652,\n",
        "        0.37511686,  0.52820955,  0.77948593,  0.82064442,  0.71947094,\n",
        "        0.65955624,  0.19277939,  0.85935116,  0.70485223,  0.46047406,\n",
        "        0.66026764,  0.33409903,  0.41909485,  0.73308662,  0.17707373,\n",
        "        0.74385119,  0.93137652,  0.6186939 ,  0.54825937,  0.68382385,\n",
        "        0.92441953,  0.69618953,  0.37892391,  0.79821089,  0.84678967,\n",
        "        0.74376133,  0.43599353,  0.22949757,  0.67879808,  0.71411014,\n",
        "        0.68898556,  0.60612489,  0.90353422,  0.530467  ,  0.19594198,\n",
        "        0.68501983,  0.22043556,  0.74900441,  0.31264187,  0.7259387 ,\n",
        "        0.71234508,  0.82501853,  0.77054915,  0.38118186,  0.88208994,\n",
        "        0.21699875,  0.69589064,  0.49405158,  0.79503047,  0.82915803,\n",
        "        0.14780229,  0.85390815,  0.77083775,  0.60381929,  0.86329064,\n",
        "        0.68954223,  0.78505065,  0.84312317,  0.84280333,  0.59081208,\n",
        "        0.74905937,  0.45479549,  0.17004621,  0.47632047,  0.67415752,\n",
        "        0.24836389,  0.73144907,  0.69277707,  0.90009911,  0.52780033,\n",
        "        0.80981691,  0.50707142,  0.55190376,  0.62698803,  0.62649857,\n",
        "        0.38182273,  0.66455876,  0.42660145,  0.78358381,  0.60221357,\n",
        "        0.73923541,  0.63897294,  0.77370985,  0.12569997,  0.59944895,\n",
        "        0.74300593,  0.86549115,  0.83500558,  0.89337205,  0.78441012,\n",
        "        0.48551064,  0.71359247,  0.7652293 ,  0.63083357,  0.68363634,\n",
        "        0.64250427,  0.11255081,  0.70585756,  0.70240898,  0.48015699,\n",
        "        0.75329432,  0.76053158,  0.62700601,  0.8788379 ,  0.76697015,\n",
        "        0.77353366,  0.5055841 ,  0.79779603,  0.59545474,  0.86822325,\n",
        "        0.40666387,  0.41107179,  0.77848181,  0.55359495,  0.37135999,\n",
        "        0.72785033,  0.68820323,  0.17114911,  0.20819444,  0.86842974,\n",
        "        0.64602652,  0.55737756,  0.55323523,  0.77763417,  0.47250152,\n",
        "        0.70023132,  0.42620236,  0.73290044,  0.87378752,  0.7400639 ,\n",
        "        0.84983624,  0.54800102,  0.30840157,  0.92532163,  0.90759915,\n",
        "        0.71525794,  0.48343102,  0.55212171,  0.15059524,  0.56817749,\n",
        "        0.67927801,  0.37156413,  0.7133033 ,  0.49303534,  0.76002306,\n",
        "        0.86405535,  0.48661199,  0.15943478,  0.22964841,  0.15677449,\n",
        "        0.41640959,  0.20975625,  0.34180038,  0.46322296,  0.31103263,\n",
        "        0.25783713,  0.5200555 ,  0.45943893,  0.32981673,  0.45722051,\n",
        "        0.37371066,  0.83614645,  0.27451501,  0.3919934 ,  0.67401548,\n",
        "        0.29453389,  0.69671232,  0.41724706,  0.46461414,  0.42730306,\n",
        "        0.72499071,  0.92142574,  0.79518249,  0.29929579,  0.32368208,\n",
        "        0.7456445 ,  0.24643049,  0.48514018,  0.29865135,  0.7350457 ,\n",
        "        0.53667453,  0.23782189,  0.26267441,  0.6875288 ,  0.89102203,\n",
        "        0.3888517 ,  0.26158536,  0.18543807,  0.77285812,  0.20187789,\n",
        "        0.13231811,  0.56955747,  0.86154914,  0.62818903,  0.16669386,\n",
        "        0.33757726,  0.18905966,  0.44173215,  0.025     ,  0.70626757,\n",
        "        0.41119925,  0.69127484,  0.40407503,  0.82796738,  0.33474975,\n",
        "        0.60576243,  0.50240403,  0.6875288 ,  0.49999276,  0.41716607,\n",
        "        0.36569905,  0.35888665,  0.5574314 ,  0.83523477,  0.84931319,\n",
        "        0.49497148,  0.86792084,  0.35061146,  0.84911674,  0.74386719,\n",
        "        0.65776152,  0.75319528,  0.60884157,  0.64930169,  0.78177143,\n",
        "        0.86401901,  0.84127012,  0.20106679,  0.66689023,  0.89763552,\n",
        "        0.71305853,  0.71202608,  0.57345358,  0.48558424,  0.89866214,\n",
        "        0.53638158,  0.70764567,  0.60247145,  0.2646037 ,  0.56110036,\n",
        "        0.54894286,  0.56234615,  0.71829062,  0.61933303,  0.93347738,\n",
        "        0.77099519,  0.46693284,  0.86313253,  0.92467685,  0.64366147,\n",
        "        0.51774795,  0.6958145 ,  0.46188954,  0.8849009 ,  0.67452572,\n",
        "        0.82864047,  0.58147875,  0.72111498,  0.81803438,  0.8009297 ,\n",
        "        0.88654885,  0.35678152,  0.08010822,  0.0885    ,  0.57476365,\n",
        "        0.18041667,  0.12395833,  0.93194822,  0.36399573,  0.92660832,\n",
        "        0.46152747,  0.68214075,  0.65350009,  0.2502574 ,  0.63044809,\n",
        "        0.43984544,  0.43693917,  0.31455736,  0.28046846,  0.65973295,\n",
        "        0.28513894,  0.69929585,  0.5624998 ,  0.69762832,  0.36435343,\n",
        "        0.73944171,  0.14696967,  0.36327252,  0.15653409,  0.11361358,\n",
        "        0.34509921,  0.08630952,  0.70785696,  0.51120132,  0.18378006,\n",
        "        0.3162693 ,  0.43671192,  0.73839563,  0.1253869 ,  0.3458079 ,\n",
        "        0.55158677,  0.25582137,  0.6568455 ,  0.156456  ,  0.2886276 ,\n",
        "        0.57537305,  0.53601474,  0.58966107,  0.61352126,  0.34717212,\n",
        "        0.66685494,  0.16097695,  0.69761305,  0.58241408,  0.68494244,\n",
        "        0.41142272,  0.47909271,  0.12445652,  0.06156746,  0.95146028,\n",
        "        0.22337832,  0.25358799,  0.45160803,  0.29279651,  0.40156377])"
       ]
      }
     ],
     "prompt_number": 81
    },
    {
     "cell_type": "code",
     "collapsed": false,
     "input": [
      "helpers.roc_auc_score(Y_test, Y_pred[:, -1])"
     ],
     "language": "python",
     "metadata": {},
     "outputs": [
      {
       "metadata": {},
       "output_type": "pyout",
       "prompt_number": 82,
       "text": [
        "0.62050966538324137"
       ]
      }
     ],
     "prompt_number": 82
    },
    {
     "cell_type": "code",
     "collapsed": false,
     "input": [],
     "language": "python",
     "metadata": {},
     "outputs": []
    }
   ],
   "metadata": {}
  }
 ]
}